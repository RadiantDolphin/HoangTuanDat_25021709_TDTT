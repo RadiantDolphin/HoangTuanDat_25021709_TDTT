{
 "cells": [
  {
   "cell_type": "code",
   "execution_count": 23,
   "id": "4e9b6802-e3de-40aa-95bf-04d1f21a4c5a",
   "metadata": {},
   "outputs": [
    {
     "name": "stdin",
     "output_type": "stream",
     "text": [
      "nhap n nguyen duong 0 < n <= 1000 de cong tu 1 den n:  a\n"
     ]
    },
    {
     "name": "stdout",
     "output_type": "stream",
     "text": [
      "why bro\n"
     ]
    }
   ],
   "source": [
    "#W4A1\n",
    "def addnumbers(num):\n",
    "    sum = 0\n",
    "    for num in range(1,num+1):\n",
    "        sum += num\n",
    "    print(sum)\n",
    "\n",
    "\n",
    "try:\n",
    "    designated_num = int(input(\"nhap n nguyen duong 0 < n <= 1000 de cong tu 1 den n: \"))\n",
    "    if designated_num > 0 and designated_num <= 1000:\n",
    "        addnumbers(designated_num)\n",
    "    else:\n",
    "        print(\"not in range\")\n",
    "except ValueError:\n",
    "    print(\"why bro\")"
   ]
  },
  {
   "cell_type": "code",
   "execution_count": 59,
   "id": "58e5a4f2-b71e-45f8-a4cd-9290525f3ca2",
   "metadata": {},
   "outputs": [
    {
     "name": "stdin",
     "output_type": "stream",
     "text": [
      "choose a positive integer to check prime:  0\n",
      "choose a positive integer to check prime:  1\n"
     ]
    },
    {
     "name": "stdout",
     "output_type": "stream",
     "text": [
      "False\n"
     ]
    }
   ],
   "source": [
    "# W4A2\n",
    "# check up to sqrtn\n",
    "import math\n",
    "def lastDigit(number):\n",
    "    return int(str(number)[len(str(number)) - 1])\n",
    "\n",
    "def isPrime(number):\n",
    "    if number <= 1:\n",
    "        return False\n",
    "    else:\n",
    "        # Check last digit\n",
    "        ld = lastDigit(number)\n",
    "        if (ld == 0 or ld == 2 or ld == 5) and number // 10 >= 1:\n",
    "            return False\n",
    "\n",
    "        # THE loop\n",
    "        for i in range(2,1+math.floor(math.sqrt(number))):\n",
    "            if number % i == 0:\n",
    "                return False\n",
    "        return True\n",
    "# bully user until they choose a correct number, I can't use while loops so\n",
    "for i in range(100000000):\n",
    "    try:\n",
    "        inputnum = int(input(\"choose a positive integer to check prime: \"))\n",
    "        if inputnum > 0:\n",
    "            break\n",
    "    except ValueError:\n",
    "        print(\"\",end = \"\")\n",
    "print(isPrime(inputnum))"
   ]
  },
  {
   "cell_type": "code",
   "execution_count": null,
   "id": "92bbc157-bcd3-4732-9c3c-82e51748b682",
   "metadata": {},
   "outputs": [],
   "source": [
    "#W4A3\n",
    "def fact(n):\n",
    "    if n == 0:\n",
    "        return 1\n",
    "    elif 0 < n <= 100:\n",
    "        product = 1\n",
    "        for i in range(1,n+1):\n",
    "            product *= i\n",
    "        return product\n",
    "\n",
    "n = int(input(\"choose 0<=n<=100\"))\n",
    "print(fact(n))"
   ]
  },
  {
   "cell_type": "code",
   "execution_count": 105,
   "id": "f96d6ea2-36a0-4107-8a94-aec5b2043067",
   "metadata": {},
   "outputs": [
    {
     "name": "stdin",
     "output_type": "stream",
     "text": [
      "nhap mot so int: f\n"
     ]
    },
    {
     "name": "stdout",
     "output_type": "stream",
     "text": [
      "not an integer\n"
     ]
    }
   ],
   "source": [
    "#W4A4\n",
    "def digitCount(number):\n",
    "    if number < 0:\n",
    "        number = -number\n",
    "    divisor = 10\n",
    "    digits = 1\n",
    "    while True:\n",
    "        if number // divisor >= 1:\n",
    "            digits += 1\n",
    "            divisor *= 10\n",
    "        else:\n",
    "            return digits\n",
    "try:\n",
    "    n = int(input(\"nhap mot so int:\"))\n",
    "    print(digitCount(n))\n",
    "except ValueError:\n",
    "    print(\"not an integer\")"
   ]
  },
  {
   "cell_type": "code",
   "execution_count": null,
   "id": "c8306fed-0079-4125-9886-b53957095675",
   "metadata": {},
   "outputs": [],
   "source": [
    "#W2A5"
   ]
  },
  {
   "cell_type": "code",
   "execution_count": 112,
   "id": "fb1985b4-de64-4886-9db3-dcdf734fc33a",
   "metadata": {},
   "outputs": [
    {
     "name": "stdin",
     "output_type": "stream",
     "text": [
      "nhap 2 so a b nguyen, a <= b 1 9\n"
     ]
    },
    {
     "name": "stdout",
     "output_type": "stream",
     "text": [
      "17\n"
     ]
    }
   ],
   "source": [
    "#W2A6\n",
    "import math\n",
    "def lastDigit(number):\n",
    "    return int(str(number)[len(str(number)) - 1])\n",
    "\n",
    "def addPrime(number):\n",
    "    if number <= 1:\n",
    "        return 0\n",
    "    else:\n",
    "        # Check last digit\n",
    "        ld = lastDigit(number)\n",
    "        if (ld == 0 or ld == 2 or ld == 5) and number // 10 >= 1:\n",
    "            return 0\n",
    "\n",
    "        # THE loop\n",
    "        for i in range(2,1+math.floor(math.sqrt(number))):\n",
    "            if number % i == 0:\n",
    "                return 0\n",
    "        return number\n",
    "\n",
    "try:\n",
    "    a,b = map(int,input(\"nhap 2 so a b nguyen, a <= b\").split())\n",
    "    if a > b:\n",
    "        print(\"a larger, cannot compute\")\n",
    "    # Main\n",
    "    sum = 0\n",
    "    for i in range(a, b + 1):\n",
    "        sum += addPrime(i)\n",
    "    print(sum)\n",
    "except ValueError:\n",
    "    print('value error')\n"
   ]
  },
  {
   "cell_type": "code",
   "execution_count": 125,
   "id": "4f93584f-3915-4e1c-8dbe-cf7c18fe67f7",
   "metadata": {},
   "outputs": [
    {
     "name": "stdin",
     "output_type": "stream",
     "text": [
      "nhap n: 13\n"
     ]
    },
    {
     "name": "stdout",
     "output_type": "stream",
     "text": [
      "13\n"
     ]
    }
   ],
   "source": [
    "#W2A7\n",
    "try:\n",
    "    n = int(input(\"nhap n:\"))\n",
    "    done = None\n",
    "\n",
    "    for i in range (2, n+1):\n",
    "        if done:\n",
    "            break\n",
    "        while n % i == 0 and n >= i:\n",
    "            n //= i\n",
    "            if n == 1:\n",
    "                done = i\n",
    "                break\n",
    "    print(done)\n",
    "except ValueError:\n",
    "    print('value error')"
   ]
  },
  {
   "cell_type": "code",
   "execution_count": null,
   "id": "2fd044e1-d8c6-4ec3-864b-f5241b1c38a4",
   "metadata": {},
   "outputs": [],
   "source": []
  }
 ],
 "metadata": {
  "kernelspec": {
   "display_name": "Python 3 (ipykernel)",
   "language": "python",
   "name": "python3"
  },
  "language_info": {
   "codemirror_mode": {
    "name": "ipython",
    "version": 3
   },
   "file_extension": ".py",
   "mimetype": "text/x-python",
   "name": "python",
   "nbconvert_exporter": "python",
   "pygments_lexer": "ipython3",
   "version": "3.13.7"
  }
 },
 "nbformat": 4,
 "nbformat_minor": 5
}
