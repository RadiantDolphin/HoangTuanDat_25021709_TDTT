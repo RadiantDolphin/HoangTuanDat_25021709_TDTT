{
 "cells": [
  {
   "cell_type": "code",
   "execution_count": 1,
   "id": "40e7d3ed-6760-4234-be9f-4eaef1788899",
   "metadata": {},
   "outputs": [
    {
     "name": "stdin",
     "output_type": "stream",
     "text": [
      "nhap do dai va chieu rong:  4 5\n"
     ]
    },
    {
     "name": "stdout",
     "output_type": "stream",
     "text": [
      "area = 20.0, perimiter = 18.0\n"
     ]
    }
   ],
   "source": [
    "#B1\n",
    "l,w = map(float,input(\"nhap do dai va chieu rong: \").split())\n",
    "print(f\"area = {l*w}, perimiter = {2*(l+w)}\")"
   ]
  },
  {
   "cell_type": "code",
   "execution_count": 6,
   "id": "60f06f2f-a280-4d35-9623-8ecf98780b2e",
   "metadata": {},
   "outputs": [
    {
     "name": "stdin",
     "output_type": "stream",
     "text": [
      "nhap ban kinh : 1\n"
     ]
    },
    {
     "name": "stdout",
     "output_type": "stream",
     "text": [
      "1.0\n",
      "area = 3.141592653589793, circumference = 6.283185307179586\n"
     ]
    }
   ],
   "source": [
    "#B2\n",
    "import math\n",
    "r = float(input(\"nhap ban kinh :\"))\n",
    "print(r)\n",
    "print(f\"area = {math.pi * r**2}, circumference = {2 * math.pi * r}\")"
   ]
  },
  {
   "cell_type": "code",
   "execution_count": 10,
   "id": "ca8c8c70-7618-4d6f-8c35-4e66cb02d1f4",
   "metadata": {},
   "outputs": [
    {
     "name": "stdin",
     "output_type": "stream",
     "text": [
      "nhap 3 canh cua tam giac:  2 2 3\n"
     ]
    },
    {
     "name": "stdout",
     "output_type": "stream",
     "text": [
      "tam giac can\n",
      "perimter = 7.0, area = 1.984313483298443\n"
     ]
    }
   ],
   "source": [
    "#B3\n",
    "import math\n",
    "a,b,c = map(float,input(\"nhap 3 canh cua tam giac: \").split())\n",
    "tri_type = \"idk\"\n",
    "if a > 0 and b > 0 and c > 0 and a+b>c and b+c>a and c+a>b:\n",
    "    #la tam giac\n",
    "    if a == b == c:\n",
    "        tri_type = \"tam giac deu\"\n",
    "    elif a == b or b == c or c == a:\n",
    "        tri_type = \"tam giac can\"\n",
    "    if a**2 == b**2 + c**2 or b**2 == c**2 + a**2 or c**2 == a**2 + b**2:\n",
    "        if tri_type == \"tam giac can\":\n",
    "            tri_type = \"tam giac vuong can\"\n",
    "        else:\n",
    "            tri_type = \"tam giac vuong\"\n",
    "    print(tri_type)\n",
    "    ## peri calc\n",
    "    perimeter = a + b + c\n",
    "    ## area calc\n",
    "    p = perimeter / 2\n",
    "    area = math.sqrt(p * (p-a) * (p-b) * (p-c))\n",
    "    print(f\"perimter = {perimeter}, area = {area}\")\n",
    "else:\n",
    "    print(\"khong phai ba canh cua tam giac\")\n",
    "    "
   ]
  },
  {
   "cell_type": "code",
   "execution_count": 16,
   "id": "d16d825e-c9da-4e64-bfb7-28f498dd2e91",
   "metadata": {},
   "outputs": [
    {
     "name": "stdin",
     "output_type": "stream",
     "text": [
      "nhap a b trong ax + b = 0: 4 5\n"
     ]
    },
    {
     "name": "stdout",
     "output_type": "stream",
     "text": [
      "x = -1.25\n"
     ]
    }
   ],
   "source": [
    "#B4 ax + b = 0\n",
    "a,b = map(float,input(\"nhap a b trong ax + b = 0:\").split())\n",
    "if a == 0:\n",
    "    if b == 0:\n",
    "        print(\"inf solution\")\n",
    "    else:\n",
    "        print(\"no solution\")\n",
    "else:\n",
    "    print(f\"x = {-b/a}\")"
   ]
  },
  {
   "cell_type": "code",
   "execution_count": 29,
   "id": "d44e571c-3bcd-47d8-b69f-e4ae17899306",
   "metadata": {},
   "outputs": [
    {
     "name": "stdin",
     "output_type": "stream",
     "text": [
      "nhap a b c trong ax^2 + bx + c = 0: 1 4 4\n"
     ]
    },
    {
     "name": "stdout",
     "output_type": "stream",
     "text": [
      "nghiem kep -2.0\n"
     ]
    }
   ],
   "source": [
    "#B5 ax2 + bx + c = 0\n",
    "import math\n",
    "a,b,c = map(float,input(\"nhap a b c trong ax^2 + bx + c = 0:\").split())\n",
    "if a == 0:\n",
    "    # bx + c = 0\n",
    "    if b == 0:\n",
    "        if c == 0:\n",
    "            print(\"inf solution\")\n",
    "        else:\n",
    "            print(\"no sulution\")\n",
    "    else:\n",
    "        print(f\"x = {-c/b}\")\n",
    "else:\n",
    "    dt = b**2-4*a*c\n",
    "    if dt < 0:\n",
    "        print(\"no solution\")\n",
    "    else:\n",
    "        x1 = (-b + math.sqrt(dt)) / (2*a)\n",
    "        x2 = (-b - math.sqrt(dt)) / (2*a)\n",
    "        if x1 == x2:\n",
    "            print(\"nghiem kep\", x1)\n",
    "        else:\n",
    "            qprint(f\"x1 = {x1}, x2 = {x2}\")"
   ]
  },
  {
   "cell_type": "code",
   "execution_count": 33,
   "id": "c1824cb1-db20-4b50-b22b-85ac5e1570d3",
   "metadata": {},
   "outputs": [
    {
     "name": "stdin",
     "output_type": "stream",
     "text": [
      "nhap a b c d:  2 4 3 6\n"
     ]
    },
    {
     "name": "stdout",
     "output_type": "stream",
     "text": [
      "0 2.0\n",
      "1 3.0\n",
      "2 4.0\n",
      "3 6.0\n",
      "highest = 6.0, lowest = 2.0\n"
     ]
    }
   ],
   "source": [
    "#B6 and 7\n",
    "a,b,c,d = map(float,input(\"nhap a b c d: \").split())\n",
    "highest = a\n",
    "lowest = a\n",
    "compare_list = {a,b,c,d}\n",
    "for i,v in enumerate(compare_list):\n",
    "    if v > highest:\n",
    "        highest = v\n",
    "    else:\n",
    "        lowest = v\n",
    "print(f\"highest = {highest}, lowest = {lowest}\")"
   ]
  },
  {
   "cell_type": "code",
   "execution_count": null,
   "id": "87b91937-5633-415b-b1ab-6d0fcbcdf10e",
   "metadata": {},
   "outputs": [],
   "source": []
  }
 ],
 "metadata": {
  "kernelspec": {
   "display_name": "Python 3 (ipykernel)",
   "language": "python",
   "name": "python3"
  },
  "language_info": {
   "codemirror_mode": {
    "name": "ipython",
    "version": 3
   },
   "file_extension": ".py",
   "mimetype": "text/x-python",
   "name": "python",
   "nbconvert_exporter": "python",
   "pygments_lexer": "ipython3",
   "version": "3.13.7"
  }
 },
 "nbformat": 4,
 "nbformat_minor": 5
}
