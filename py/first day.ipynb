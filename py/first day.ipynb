{
 "cells": [
  {
   "cell_type": "code",
   "execution_count": 4,
   "id": "e5324c94-dab7-4af0-9c98-c505aad914b5",
   "metadata": {},
   "outputs": [
    {
     "name": "stdin",
     "output_type": "stream",
     "text": [
      " 1 2 3 4 5 6\n"
     ]
    },
    {
     "name": "stdout",
     "output_type": "stream",
     "text": [
      "4.2\n"
     ]
    }
   ],
   "source": [
    "#W2A4 - Average of Six\n",
    "'''\n",
    "1 - HS1\n",
    "2 - HS2\n",
    "3 - HS3\n",
    "a,b,c = đầu điểm\n",
    "'''\n",
    "user_input = input()\n",
    "a1,b1,c1,a2,b2,a3 = map(int,user_input.split())\n",
    "TB = ((a1 + b1 + c1) + 2*(a2 + b2) + 3*a3)/10\n",
    "print(TB)\n"
   ]
  },
  {
   "cell_type": "code",
   "execution_count": 5,
   "id": "df7c8a24-24f7-4de2-b889-fb68c9df21af",
   "metadata": {},
   "outputs": [
    {
     "name": "stdin",
     "output_type": "stream",
     "text": [
      " 2 3\n"
     ]
    },
    {
     "name": "stdout",
     "output_type": "stream",
     "text": [
      "8\n"
     ]
    }
   ],
   "source": [
    "#W2A5 - Exponentiation\n",
    "\n",
    "user_input = input()\n",
    "a, b = map(int, user_input.split())\n",
    "print(a**b)"
   ]
  },
  {
   "cell_type": "code",
   "execution_count": 11,
   "id": "ecd8485d-675d-4a7b-b066-dfedf29d1888",
   "metadata": {},
   "outputs": [
    {
     "name": "stdin",
     "output_type": "stream",
     "text": [
      " Z\n"
     ]
    },
    {
     "name": "stdout",
     "output_type": "stream",
     "text": [
      "unicode lowercase position = 90\n",
      "unicode uppercase = :\n"
     ]
    }
   ],
   "source": [
    "#W2A6 - String Data Type\n",
    "char = str(input()) # ONE CHAR ONLY\n",
    "print(f\"unicode lowercase position = {ord(char)}\")\n",
    "print(f\"unicode uppercase = {chr(ord(char)-32)}\")"
   ]
  },
  {
   "cell_type": "code",
   "execution_count": 13,
   "id": "f389cddc-a513-4320-9bfe-7683b657e585",
   "metadata": {},
   "outputs": [
    {
     "name": "stdout",
     "output_type": "stream",
     "text": [
      "734 6566\n"
     ]
    }
   ],
   "source": [
    "#W2A7 - Operations\n",
    "A = ((13**2)**3)+5\n",
    "B = 13**2**3 + 5 # computes exponentials from right to left\n",
    "print(A,B)"
   ]
  },
  {
   "cell_type": "code",
   "execution_count": 17,
   "id": "9061da1b-2897-41f5-a874-39b8a669a288",
   "metadata": {},
   "outputs": [
    {
     "name": "stdin",
     "output_type": "stream",
     "text": [
      " 0\n"
     ]
    },
    {
     "name": "stdout",
     "output_type": "stream",
     "text": [
      "Fahrenheit = 32.0\n"
     ]
    }
   ],
   "source": [
    "#W2A8 - Celsius Transfer\n",
    "C = float(input())\n",
    "F = (9/5)*C + 32\n",
    "print(f\"Fahrenheit = {F}\")"
   ]
  },
  {
   "cell_type": "code",
   "execution_count": 71,
   "id": "e8cd3840-59c8-40ba-8044-80193cb50627",
   "metadata": {},
   "outputs": [
    {
     "name": "stdin",
     "output_type": "stream",
     "text": [
      " 10\n"
     ]
    },
    {
     "name": "stdout",
     "output_type": "stream",
     "text": [
      "24.0\n"
     ]
    }
   ],
   "source": [
    "#W2A9 - ShoppingOnline\n",
    "price = float(input())\n",
    "real_price = 10 + price + price*(0.3+0.1) # i think idk\n",
    "print(real_price)"
   ]
  },
  {
   "cell_type": "code",
   "execution_count": 19,
   "id": "7a54a6fc-ef59-49eb-8982-8cfb86bc4e8a",
   "metadata": {},
   "outputs": [
    {
     "name": "stdin",
     "output_type": "stream",
     "text": [
      " 1 2 3\n"
     ]
    },
    {
     "name": "stdout",
     "output_type": "stream",
     "text": [
      "Hi 3, 2 and 1.\n"
     ]
    }
   ],
   "source": [
    "#W2A10\n",
    "a,b,c = input().split()\n",
    "print(f\"Hi {c}, {b} and {a}.\")"
   ]
  },
  {
   "cell_type": "code",
   "execution_count": 20,
   "id": "aae24769-0452-4e65-9980-a3503fe8ab98",
   "metadata": {},
   "outputs": [
    {
     "name": "stdin",
     "output_type": "stream",
     "text": [
      "pls type 3 5\n"
     ]
    },
    {
     "name": "stdout",
     "output_type": "stream",
     "text": [
      "11100.0\n"
     ]
    }
   ],
   "source": [
    "#W2A11\n",
    "hours, minutes = map(float,input(\"pls type\").split())\n",
    "seconds = 3600*hours + 60*minutes\n",
    "print(seconds)"
   ]
  },
  {
   "cell_type": "code",
   "execution_count": 69,
   "id": "d8c62722-3e01-4fae-82ea-2ff06f9a0a04",
   "metadata": {},
   "outputs": [
    {
     "name": "stdin",
     "output_type": "stream",
     "text": [
      " 3\n"
     ]
    },
    {
     "name": "stdout",
     "output_type": "stream",
     "text": [
      "54\n"
     ]
    }
   ],
   "source": [
    "#W2A12\n",
    "length = int(input())\n",
    "print(6 * length**2)"
   ]
  },
  {
   "cell_type": "code",
   "execution_count": 68,
   "id": "2aef6a63-116f-4c62-a6f6-759a9a0a9675",
   "metadata": {},
   "outputs": [
    {
     "name": "stdin",
     "output_type": "stream",
     "text": [
      "pls type 3.4 5\n"
     ]
    },
    {
     "name": "stdout",
     "output_type": "stream",
     "text": [
      "7.0\n"
     ]
    }
   ],
   "source": [
    "#W2A13\n",
    "a, b = map(float,input(\"pls type\").split())\n",
    "result = a*b % 10\n",
    "print(result)\n"
   ]
  },
  {
   "cell_type": "code",
   "execution_count": null,
   "id": "bba1b959-dde5-456c-b827-dc58073d19f9",
   "metadata": {},
   "outputs": [],
   "source": [
    "#W2A14\n",
    "a, b = map(float,input(\"pls type\").split())\n",
    "a, b = b, a"
   ]
  },
  {
   "cell_type": "code",
   "execution_count": 21,
   "id": "71d633fa-f0d9-4556-ac5e-8625001b6405",
   "metadata": {},
   "outputs": [
    {
     "name": "stdout",
     "output_type": "stream",
     "text": [
      "Spring\n",
      "Summer\n",
      "Autumn\n",
      "Winter\n"
     ]
    }
   ],
   "source": [
    "#W2A16 - Seasons In Year\n",
    "print(\"Spring\\nSummer\\nAutumn\\nWinter\") # if python sees a \\n it auto wraps"
   ]
  },
  {
   "cell_type": "code",
   "execution_count": 74,
   "id": "a99357c4-1665-4c2b-9b93-50874862da4b",
   "metadata": {},
   "outputs": [
    {
     "name": "stdin",
     "output_type": "stream",
     "text": [
      " 2\n"
     ]
    },
    {
     "name": "stdout",
     "output_type": "stream",
     "text": [
      " * \n",
      "* * \n"
     ]
    }
   ],
   "source": [
    "#W2A17 - Draw Triangle\n",
    "row_num = int(input())\n",
    "temp_string = \"\"\n",
    "number_of_spaces = 0\n",
    "mod = 0\n",
    "for i in range (1, row_num + 1):\n",
    "    # Calculate indent\n",
    "    number_of_spaces = (row_num-i)\n",
    "\n",
    "    for j in range (1, (number_of_spaces+ 1)):\n",
    "        temp_string += \" \"\n",
    "    #Stars\n",
    "    for k in range (1, i + 1):\n",
    "        temp_string += \"* \"\n",
    "    # Print\n",
    "    print(temp_string)\n",
    "    temp_string = \"\" # Clears\n",
    "# idek bro"
   ]
  },
  {
   "cell_type": "code",
   "execution_count": 57,
   "id": "d43ad9a2-9bcf-4658-9162-c2bdebdab1c1",
   "metadata": {},
   "outputs": [
    {
     "name": "stdout",
     "output_type": "stream",
     "text": [
      "\n",
      "\n",
      "###  # #     ###  ###\n",
      " #   #   #    #    #\n",
      " #   #    #   #    #\n",
      " #   #   #    #    #\n",
      " #   # #      #    #\n",
      "\n",
      "\n"
     ]
    }
   ],
   "source": [
    "#W2A18\n",
    "print('''\n",
    "\n",
    "###  # #     ###  ###\n",
    " #   #   #    #    #\n",
    " #   #    #   #    #\n",
    " #   #   #    #    #\n",
    " #   # #      #    #\n",
    "\n",
    "''')"
   ]
  },
  {
   "cell_type": "code",
   "execution_count": 58,
   "id": "25c90c71-5e13-4616-ab9e-6023b65b0da7",
   "metadata": {},
   "outputs": [
    {
     "name": "stdout",
     "output_type": "stream",
     "text": [
      "Monday\n",
      "Tuesday\n",
      "Wednesday\n",
      "Thursday\n",
      "Friday\n",
      "Saturday\n",
      "Sunday\n"
     ]
    }
   ],
   "source": [
    "#W2A19\n",
    "print(\"Monday\\nTuesday\\nWednesday\\nThursday\\nFriday\\nSaturday\\nSunday\")"
   ]
  },
  {
   "cell_type": "code",
   "execution_count": 59,
   "id": "8021b124-412b-4eb9-962d-8c2fcd17a6ba",
   "metadata": {},
   "outputs": [
    {
     "name": "stdout",
     "output_type": "stream",
     "text": [
      "January\n",
      "February\n",
      "March\n",
      "April\n",
      "May\n",
      "June\n",
      "July\n",
      "August\n",
      "September\n",
      "October\n",
      "November\n",
      "December\n"
     ]
    }
   ],
   "source": [
    "#2A20\n",
    "print(\"January\\nFebruary\\nMarch\\nApril\\nMay\\nJune\\nJuly\\nAugust\\nSeptember\\nOctober\\nNovember\\nDecember\")"
   ]
  },
  {
   "cell_type": "code",
   "execution_count": 61,
   "id": "1e943c21-29ef-4d55-8064-0cc1513224fb",
   "metadata": {},
   "outputs": [
    {
     "name": "stdout",
     "output_type": "stream",
     "text": [
      "Hello, world\n",
      "Hello, world\n",
      "Hello, world\n",
      "Hello, world\n",
      "Hello, world\n",
      "Hello, world\n",
      "Hello, world\n",
      "Hello, world\n",
      "Hello, world\n",
      "Hello, world\n"
     ]
    }
   ],
   "source": [
    "#W2A21\n",
    "for _ in range (0,10):\n",
    "    print(\"Hello, world\")"
   ]
  },
  {
   "cell_type": "code",
   "execution_count": null,
   "id": "9248f119-d177-4f48-b638-e227019826ff",
   "metadata": {},
   "outputs": [],
   "source": []
  }
 ],
 "metadata": {
  "kernelspec": {
   "display_name": "Python 3 (ipykernel)",
   "language": "python",
   "name": "python3"
  },
  "language_info": {
   "codemirror_mode": {
    "name": "ipython",
    "version": 3
   },
   "file_extension": ".py",
   "mimetype": "text/x-python",
   "name": "python",
   "nbconvert_exporter": "python",
   "pygments_lexer": "ipython3",
   "version": "3.13.7"
  }
 },
 "nbformat": 4,
 "nbformat_minor": 5
}
