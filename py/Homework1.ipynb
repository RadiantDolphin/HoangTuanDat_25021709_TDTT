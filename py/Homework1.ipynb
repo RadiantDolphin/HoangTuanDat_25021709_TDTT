{
 "cells": [
  {
   "cell_type": "code",
   "execution_count": 2,
   "id": "916618e5-c98a-40cc-8f96-4d9af23a3743",
   "metadata": {},
   "outputs": [
    {
     "name": "stdin",
     "output_type": "stream",
     "text": [
      "nhap so nguyen:  6\n"
     ]
    },
    {
     "name": "stdout",
     "output_type": "stream",
     "text": [
      "12\n"
     ]
    }
   ],
   "source": [
    "#B1\n",
    "n = int(input(\"nhap so nguyen: \"))\n",
    "print(2*n)"
   ]
  },
  {
   "cell_type": "code",
   "execution_count": 7,
   "id": "268704b6-b0cf-4866-86e3-c1dae72d90bb",
   "metadata": {},
   "outputs": [
    {
     "name": "stdin",
     "output_type": "stream",
     "text": [
      "nhap chieu rong, chieu dai:  4 5\n"
     ]
    },
    {
     "name": "stdout",
     "output_type": "stream",
     "text": [
      "7.44\n"
     ]
    }
   ],
   "source": [
    "#B2\n",
    "pi = 3.14\n",
    "\n",
    "a, b = input(\"nhap chieu rong, chieu dai: \").split()\n",
    "a, b = float(a),float(b)\n",
    "\n",
    "radius = a/2\n",
    "circle_area = pi * radius ** 2\n",
    "rect_area = a*b\n",
    "rest = rect_area - circle_area\n",
    "print(round(rest,2))"
   ]
  },
  {
   "cell_type": "code",
   "execution_count": 31,
   "id": "a11fce16-c258-411d-858e-fe2a63010957",
   "metadata": {},
   "outputs": [
    {
     "name": "stdin",
     "output_type": "stream",
     "text": [
      "nhap 1 ki tu:  1232323\n"
     ]
    },
    {
     "name": "stdout",
     "output_type": "stream",
     "text": [
      "???\n"
     ]
    }
   ],
   "source": [
    "#B3 + 4 + 5\n",
    "# lowercase: a = 97, z = 122\n",
    "# Uppercase: A = 65, Z = 90\n",
    "\n",
    "def upper(char):\n",
    "    pos = ord(char)\n",
    "    return chr(pos - (97 - 65))\n",
    "def lower(char):\n",
    "    pos = ord(char)\n",
    "    return chr(pos + (97 - 65))\n",
    "\n",
    "char = input(\"nhap 1 ki tu: \")\n",
    "if len(char) != 1:\n",
    "    print(\"???\")\n",
    "else:\n",
    "    pos = ord(char)\n",
    "    if pos >= 97 and pos <= 122:\n",
    "        # lower\n",
    "        print(\"(B3)\",upper(char))\n",
    "    elif pos >= 65 and pos <= 90:\n",
    "        #Upper\n",
    "        print(\"(B3)\",lower(char))\n",
    "        converted_char = lower(char)\n",
    "        converted_char_pos = ord(converted_char)\n",
    "        if converted_char_pos > 97 and converted_char_pos <= 122:\n",
    "            print(\"(B5)\",chr(converted_char_pos - 1))\n",
    "        elif converted_char_pos == 97:\n",
    "            print(\"(B5) z\")\n",
    "    else:\n",
    "        print(\"(B4) không phải kí tự trong bảng chữ cái\")"
   ]
  },
  {
   "cell_type": "code",
   "execution_count": 37,
   "id": "ba2ce5c8-ce49-42f9-82bc-72cf495fb38c",
   "metadata": {},
   "outputs": [
    {
     "name": "stdin",
     "output_type": "stream",
     "text": [
      "nhap 3 canh cua tam giac: 3 4 6\n"
     ]
    },
    {
     "name": "stdout",
     "output_type": "stream",
     "text": [
      "valid\n",
      "dien tich tam giac = 5.3\n"
     ]
    }
   ],
   "source": [
    "# B6\n",
    "import math\n",
    "a,b,c = map(float,input(\"nhap 3 canh cua tam giac:\").split())\n",
    "if a > 0 and b > 0 and c > 0 and (a + b > c) and (b + c > a) and (c + a > b):\n",
    "    print(\"valid\")\n",
    "    p = (a + b + c)/2\n",
    "    area = math.sqrt(p * (p - a) * (p - b) * (p - c))\n",
    "    area = round(area,1)\n",
    "    print(\"dien tich tam giac =\",area)\n",
    "else:\n",
    "    print(\"Khong phai 3 canh cua tam giac\")\n",
    "    "
   ]
  },
  {
   "cell_type": "code",
   "execution_count": 41,
   "id": "fc81a349-fc30-4bca-9628-2635ef198958",
   "metadata": {},
   "outputs": [
    {
     "name": "stdin",
     "output_type": "stream",
     "text": [
      "nhap chuoi dai 20 ki tu hoac hon: 12345678901234567890\n"
     ]
    },
    {
     "name": "stdout",
     "output_type": "stream",
     "text": [
      "char 5 = 5, char 9 = 9\n"
     ]
    }
   ],
   "source": [
    "#B7\n",
    "string = input(\"nhap chuoi dai 20 ki tu hoac hon:\")\n",
    "if len(string) < 20:\n",
    "    print(\"bò\")\n",
    "else:\n",
    "    print(f\"char 5 = {string[4]}, char 9 = {string[8]}\")"
   ]
  },
  {
   "cell_type": "code",
   "execution_count": null,
   "id": "0f6dd642-df4c-4147-9ce1-600b852eab00",
   "metadata": {},
   "outputs": [],
   "source": [
    "#B8\n",
    "name = input(\"Ten chu ho: \")\n",
    "prev_month = int(input(\"Chi so thang truoc: \"))\n",
    "current_month = int(input(\"Chi so thang nay: \"))\n",
    "amount = current_month - prev_month\n",
    "last_limit = 0\n",
    "pay_amount = 0\n",
    "if 0 <= prev_month <= current_month:   \n",
    "    prices = [\n",
    "        {\"limit\": 50, \"price\": 1984}, # 0 - 50\n",
    "        {\"limit\": 100, \"price\": 2050}, # 51 - 100\n",
    "        {\"limit\": 200, \"price\": 2380}, # 101 - 200\n",
    "        {\"limit\": 300, \"price\": 2998}, # 201 - 300\n",
    "        {\"limit\": 400, \"price\": 3350}, #301 - 400\n",
    "        {\"limit\": float(\"inf\"), \"price\" : 3460} # 401+\n",
    "    ]\n",
    "    for i, dictionary in enumerate(prices):\n",
    "        if amount > dictionary[\"limit\"]:\n",
    "            pay_amount += (dictionary[\"limit\"] - last_limit) * dictionary[\"price\"]\n",
    "            last_limit = dictionary[\"limit\"]\n",
    "        else:\n",
    "            pay_amount += (amount - last_limit) * dictionary[\"price\"]\n",
    "            pay_amount *= 1.08\n",
    "            print(f'''\n",
    "            Ho va ten: {name}\n",
    "            Tien phai tra la: {round(pay_amount)}\n",
    "            ''')\n",
    "            break\n",
    "            \n",
    "        \n",
    "    "
   ]
  }
 ],
 "metadata": {
  "kernelspec": {
   "display_name": "Python 3 (ipykernel)",
   "language": "python",
   "name": "python3"
  },
  "language_info": {
   "codemirror_mode": {
    "name": "ipython",
    "version": 3
   },
   "file_extension": ".py",
   "mimetype": "text/x-python",
   "name": "python",
   "nbconvert_exporter": "python",
   "pygments_lexer": "ipython3",
   "version": "3.13.7"
  }
 },
 "nbformat": 4,
 "nbformat_minor": 5
}
